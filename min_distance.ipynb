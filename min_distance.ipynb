{
 "cells": [
  {
   "cell_type": "code",
   "execution_count": 1,
   "metadata": {},
   "outputs": [
    {
     "name": "stderr",
     "output_type": "stream",
     "text": [
      "/opt/anaconda3/lib/python3.9/site-packages/pandas/core/computation/expressions.py:21: UserWarning: Pandas requires version '2.8.4' or newer of 'numexpr' (version '2.8.3' currently installed).\n",
      "  from pandas.core.computation.check import NUMEXPR_INSTALLED\n",
      "/opt/anaconda3/lib/python3.9/site-packages/pandas/core/arrays/masked.py:60: UserWarning: Pandas requires version '1.3.6' or newer of 'bottleneck' (version '1.3.5' currently installed).\n",
      "  from pandas.core import (\n"
     ]
    }
   ],
   "source": [
    "import numpy as np\n",
    "import pandas as pd\n",
    "import osmnx as ox\n",
    "import geopandas as gpd\n",
    "import folium\n",
    "import matplotlib.pyplot as plt\n",
    "from geopy.distance import geodesic\n",
    "import contextily as ctx\n",
    "from shapely.geometry import box\n",
    "from scipy.spatial import cKDTree"
   ]
  },
  {
   "cell_type": "code",
   "execution_count": 2,
   "metadata": {},
   "outputs": [
    {
     "name": "stderr",
     "output_type": "stream",
     "text": [
      "/var/folders/ym/s4xnst_s0y769j7rl84pgpww0000gn/T/ipykernel_1758/3840613656.py:5: DtypeWarning: Columns (8,30) have mixed types. Specify dtype option on import or set low_memory=False.\n",
      "  df = pd.read_csv(file_path)\n"
     ]
    },
    {
     "name": "stdout",
     "output_type": "stream",
     "text": [
      "The dataframe of all data has the shape: (340286, 31)\n",
      "The parameters given by the data are: ['departure', 'arrival', 'route', 'departure_date_num', 'departure_time', 'seats_total', 'seats_booked', 'distance_BBC', 'announce_published_date', 'announce_views', 'arrival_latitude', 'arrival_longitude', 'car_mark', 'car_model', 'comment_average_note', 'commission', 'departure_date', 'departure_latitude', 'departure_longitude', 'departure_strike', 'driver_age', 'driving_quality', 'experience', 'member_since_month', 'member_since_year', 'price_driver', 'price_driver_default', 'price_driver_hcap', 'price_driver_lcap', 'published_ads', 'trip_description']\n"
     ]
    }
   ],
   "source": [
    "#Extract the file containing all the data\n",
    "\n",
    "file_path = 'raw_data-2.csv'\n",
    "\n",
    "df = pd.read_csv(file_path)\n",
    "\n",
    "print(\"The dataframe of all data has the shape:\",df.shape)\n",
    "print(\"The parameters given by the data are:\",df.columns.tolist())"
   ]
  },
  {
   "cell_type": "code",
   "execution_count": 3,
   "metadata": {},
   "outputs": [],
   "source": [
    "#Extracting the extrema coordinates for points departing from Paris\n",
    "\n",
    "paris_df = df[df['departure'] == 'Paris']"
   ]
  },
  {
   "cell_type": "code",
   "execution_count": 4,
   "metadata": {},
   "outputs": [],
   "source": [
    "def find_nearest_neighbors_osmnx(paris_df, key, value):\n",
    "\n",
    "    min_lat = paris_df['departure_latitude'].min()\n",
    "    max_lat = paris_df['departure_latitude'].max()\n",
    "    min_lon = paris_df['departure_longitude'].min()\n",
    "    max_lon = paris_df['departure_longitude'].max()\n",
    "\n",
    "    tags5  = {str(key): str(value)}\n",
    "    all_stations = ox.geometries_from_bbox(north=max_lat, south=min_lat, east=max_lon, west=min_lon, tags=tags5)\n",
    "\n",
    "    all_stations_points = all_stations[all_stations.geometry.geom_type == 'Point']\n",
    "\n",
    "    if not all_stations_points.empty:\n",
    "        all_stations_points['latitude'] = all_stations_points.geometry.y\n",
    "        all_stations_points['longitude'] = all_stations_points.geometry.x\n",
    "        all_stations_points['name'] = all_stations_points.name\n",
    "\n",
    "    # Convert point_df latitudes and longitudes to a NumPy array (KDTree will be built from this)\n",
    "    point_coords = np.array(list(zip(all_stations_points['latitude'],  all_stations_points['longitude'])))\n",
    "    \n",
    "    # Build the KDTree using point_df coordinates\n",
    "    point_tree = cKDTree(point_coords)\n",
    "    \n",
    "    # Extract latitudes and longitudes from Paris_df for querying\n",
    "    paris_coords = np.array(list(zip(paris_df['departure_latitude'], paris_df['departure_longitude'])))\n",
    "    \n",
    "    # Query the KDTree with the paris_df coordinates to find the nearest neighbors\n",
    "    _, indices = point_tree.query(paris_coords, k=1)\n",
    "    \n",
    "    # Get the coordinates of the nearest points\n",
    "    nearest_points = point_coords[indices]\n",
    "\n",
    "    id_points = [all_stations_points['name'][i] for i in indices]\n",
    "    id_lat = [all_stations_points['latitude'][i] for i in indices]\n",
    "    id_lon = [all_stations_points['longitude'][i] for i in indices]\n",
    "    \n",
    "    # Compute the geodesic distance for each pair of points\n",
    "    distances = [\n",
    "        geodesic((paris_lat, paris_lon), (nearest_lat, nearest_lon)).meters\n",
    "        for (paris_lat, paris_lon), (nearest_lat, nearest_lon) in zip(paris_coords, nearest_points)\n",
    "    ]\n",
    "    \n",
    "    # Return the indices of the nearest neighbors and the distances to those neighbors\n",
    "    return indices, id_points, distances, id_lat, id_lon\n"
   ]
  },
  {
   "cell_type": "code",
   "execution_count": 5,
   "metadata": {},
   "outputs": [],
   "source": [
    "def find_nearest_neighbors_scratch(paris_df, list_lat, list_lon, list_name):\n",
    "\n",
    "    min_lat = paris_df['departure_latitude'].min()\n",
    "    max_lat = paris_df['departure_latitude'].max()\n",
    "    min_lon = paris_df['departure_longitude'].min()\n",
    "    max_lon = paris_df['departure_longitude'].max()\n",
    "\n",
    "    all_stations_points = pd.DataFrame()\n",
    "    all_stations_points['latitude'] = list_lat\n",
    "    all_stations_points['longitude'] = list_lon\n",
    "    all_stations_points['name'] = list_name\n",
    "\n",
    "    # Convert point_df latitudes and longitudes to a NumPy array (KDTree will be built from this)\n",
    "    point_coords = np.array(list(zip(all_stations_points['latitude'],  all_stations_points['longitude'])))\n",
    "    \n",
    "    # Build the KDTree using point_df coordinates\n",
    "    point_tree = cKDTree(point_coords)\n",
    "    \n",
    "    # Extract latitudes and longitudes from Paris_df for querying\n",
    "    paris_coords = np.array(list(zip(paris_df['departure_latitude'], paris_df['departure_longitude'])))\n",
    "    \n",
    "    # Query the KDTree with the paris_df coordinates to find the nearest neighbors\n",
    "    _, indices = point_tree.query(paris_coords, k=1)\n",
    "    \n",
    "    # Get the coordinates of the nearest points\n",
    "    nearest_points = point_coords[indices]\n",
    "\n",
    "    id_points = [all_stations_points['name'][i] for i in indices]\n",
    "    id_lat = [all_stations_points['latitude'][i] for i in indices]\n",
    "    id_lon = [all_stations_points['longitude'][i] for i in indices]\n",
    "    \n",
    "    # Compute the geodesic distance for each pair of points\n",
    "    distances = [\n",
    "        geodesic((paris_lat, paris_lon), (nearest_lat, nearest_lon)).meters\n",
    "        for (paris_lat, paris_lon), (nearest_lat, nearest_lon) in zip(paris_coords, nearest_points)\n",
    "    ]\n",
    "    \n",
    "    # Return the indices of the nearest neighbors and the distances to those neighbors\n",
    "    return indices, id_points, distances, id_lat, id_lon\n"
   ]
  }
 ],
 "metadata": {
  "kernelspec": {
   "display_name": "base",
   "language": "python",
   "name": "python3"
  },
  "language_info": {
   "codemirror_mode": {
    "name": "ipython",
    "version": 3
   },
   "file_extension": ".py",
   "mimetype": "text/x-python",
   "name": "python",
   "nbconvert_exporter": "python",
   "pygments_lexer": "ipython3",
   "version": "3.9.13"
  }
 },
 "nbformat": 4,
 "nbformat_minor": 2
}
